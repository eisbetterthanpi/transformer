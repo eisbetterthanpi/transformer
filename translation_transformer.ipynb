{
  "cells": [
    {
      "cell_type": "markdown",
      "metadata": {
        "id": "view-in-github",
        "colab_type": "text"
      },
      "source": [
        "<a href=\"https://colab.research.google.com/github/eisbetterthanpi/transformer/blob/main/translation_transformer.ipynb\" target=\"_parent\"><img src=\"https://colab.research.google.com/assets/colab-badge.svg\" alt=\"Open In Colab\"/></a>"
      ]
    },
    {
      "cell_type": "code",
      "execution_count": null,
      "metadata": {
        "id": "V1teyZuwff9_",
        "cellView": "form"
      },
      "outputs": [],
      "source": [
        "# @title setup\n",
        "\n",
        "# https://pytorch.org/tutorials/beginner/translation_transformer.html\n",
        "# https://colab.research.google.com/github/pytorch/tutorials/blob/gh-pages/_downloads/c64c91cf87c13c0e83586b8e66e4d74e/translation_transformer.ipynb\n",
        "\n",
        "# https://github.com/pytorch/data\n",
        "%pip install portalocker\n",
        "%pip install torchdata\n",
        "\n",
        "# Create source and target language tokenizer. Make sure to install the dependencies.\n",
        "!pip install -U torchdata\n",
        "!pip install -U spacy\n",
        "!python -m spacy download en_core_web_sm\n",
        "!python -m spacy download de_core_news_sm\n"
      ]
    },
    {
      "cell_type": "code",
      "source": [
        "# @title data\n",
        "\n",
        "from torchtext.datasets import multi30k, Multi30k\n",
        "# modify the URLs for the dataset since the links to the original dataset are broken https://github.com/pytorch/text/issues/1756#issuecomment-1163664163\n",
        "multi30k.URL[\"train\"] = \"https://raw.githubusercontent.com/neychev/small_DL_repo/master/datasets/Multi30k/training.tar.gz\"\n",
        "multi30k.URL[\"valid\"] = \"https://raw.githubusercontent.com/neychev/small_DL_repo/master/datasets/Multi30k/validation.tar.gz\"\n",
        "\n",
        "SRC_LANGUAGE = 'de'\n",
        "TRG_LANGUAGE = 'en'\n",
        "\n",
        "from torchtext.data.utils import get_tokenizer\n",
        "de_tokenizer = get_tokenizer('spacy', language='de_core_news_sm')\n",
        "en_tokenizer = get_tokenizer('spacy', language='en_core_web_sm')\n",
        "\n",
        "\n",
        "UNK_IDX, PAD_IDX, BOS_IDX, EOS_IDX = 0, 1, 2, 3 # unknown, pad, bigining, end of sentence\n",
        "special_symbols = ['<unk>', '<pad>', '<bos>', '<eos>']\n",
        "\n",
        "from torchtext.vocab import build_vocab_from_iterator\n",
        "train_iter = Multi30k(split='train', language_pair=(SRC_LANGUAGE, TRG_LANGUAGE))\n",
        "\n",
        "de_tokens = [de_tokenizer(data_sample[0]) for data_sample in train_iter]\n",
        "en_tokens = [en_tokenizer(data_sample[1]) for data_sample in train_iter]\n",
        "\n",
        "de_vocab = build_vocab_from_iterator(de_tokens, min_freq=1, specials=special_symbols, special_first=True)\n",
        "en_vocab = build_vocab_from_iterator(en_tokens, min_freq=1, specials=special_symbols, special_first=True)\n",
        "de_vocab.set_default_index(UNK_IDX)\n",
        "en_vocab.set_default_index(UNK_IDX)\n",
        "\n",
        "import torch\n",
        "\n",
        "def de_transform(o):\n",
        "    o=de_tokenizer(o)\n",
        "    o=de_vocab(o)\n",
        "    return torch.cat((torch.tensor([BOS_IDX]), torch.tensor(o), torch.tensor([EOS_IDX])))\n",
        "\n",
        "def en_transform(o):\n",
        "    o=en_tokenizer(o)\n",
        "    o=en_vocab(o)\n",
        "    return torch.cat((torch.tensor([BOS_IDX]), torch.tensor(o), torch.tensor([EOS_IDX])))\n",
        "\n",
        "\n",
        "from torch.nn.utils.rnn import pad_sequence\n",
        "# function to collate data samples into batch tensors\n",
        "def collate_fn(batch): # convert a batch of raw strings into batch tensors\n",
        "    src_batch, trg_batch = [], []\n",
        "    for src_sample, trg_sample in batch:\n",
        "        src_batch.append(de_transform(src_sample.rstrip(\"\\n\")))\n",
        "        trg_batch.append(en_transform(trg_sample.rstrip(\"\\n\")))\n",
        "    # src_batch = pad_sequence(src_batch, padding_value=PAD_IDX)\n",
        "    # trg_batch = pad_sequence(trg_batch, padding_value=PAD_IDX)\n",
        "    src_batch = pad_sequence(src_batch, batch_first=True, padding_value=PAD_IDX)\n",
        "    trg_batch = pad_sequence(trg_batch, batch_first=True, padding_value=PAD_IDX)\n",
        "    return src_batch, trg_batch\n",
        "\n",
        "\n",
        "torch.manual_seed(0)\n",
        "\n",
        "train_iter = Multi30k(split='train', language_pair=(SRC_LANGUAGE, TRG_LANGUAGE))\n",
        "val_iter = Multi30k(split='valid', language_pair=(SRC_LANGUAGE, TRG_LANGUAGE))\n",
        "batch_size = 128 # 128\n",
        "train_loader = torch.utils.data.DataLoader(train_iter, batch_size=batch_size, collate_fn=collate_fn)\n",
        "val_loader = torch.utils.data.DataLoader(val_iter, batch_size=batch_size, collate_fn=collate_fn)\n",
        "\n",
        "# vocab_transform = {SRC_LANGUAGE:de_vocab, TRG_LANGUAGE:en_vocab}\n",
        "# text_transform = {SRC_LANGUAGE:de_transform, TRG_LANGUAGE:en_transform}\n"
      ],
      "metadata": {
        "id": "5BFat7RgKSwR",
        "cellView": "form"
      },
      "execution_count": null,
      "outputs": []
    },
    {
      "cell_type": "code",
      "source": [
        "# @title model\n",
        "import torch\n",
        "import torch.nn as nn\n",
        "import math\n",
        "device = torch.device('cuda' if torch.cuda.is_available() else 'cpu')\n",
        "\n",
        "class PositionalEncoding(nn.Module):\n",
        "    def __init__(self, emb_size, dropout, maxlen = 128): # maxlen=5000\n",
        "        super(PositionalEncoding, self).__init__()\n",
        "        self.dropout = nn.Dropout(dropout)\n",
        "        den = torch.exp(- torch.arange(0, emb_size, 2)* math.log(10000) / emb_size)\n",
        "        pos = torch.arange(0, maxlen).reshape(maxlen, 1) # .reshape(-1, 1)\n",
        "        pos_emb = torch.zeros((maxlen, emb_size))\n",
        "        pos_emb[:, 0::2] = torch.sin(pos * den) # PE(pos, 2i) = sin(pos/1000^(2i/dim_model))\n",
        "        pos_emb[:, 1::2] = torch.cos(pos * den) # PE(pos, 2i + 1) = cos(pos/1000^(2i/dim_model))\n",
        "        pos_emb = pos_emb.unsqueeze(0) # batch_first=F -> unsqueeze(-2)\n",
        "        self.register_buffer('pos_emb', pos_emb) # register as buffer so optimizer wont update it\n",
        "\n",
        "    def forward(self, token_emb):\n",
        "        return self.dropout(token_emb + self.pos_emb[:, :token_emb.size(1)]) # batch_first=F -> [:token_emb.size(0), :]\n",
        "\n",
        "\n",
        "class TokenEmbedding(nn.Module):\n",
        "    def __init__(self, vocab_size, emb_size):\n",
        "        super(TokenEmbedding, self).__init__()\n",
        "        self.embedding = nn.Embedding(vocab_size, emb_size)\n",
        "        self.emb_size = emb_size\n",
        "\n",
        "    def forward(self, tokens):\n",
        "        return self.embedding(tokens.long()) * math.sqrt(self.emb_size)\n",
        "\n",
        "\n",
        "class Transformer(nn.Module):\n",
        "    def __init__(self, src_vocab_size, trg_vocab_size, d_model=512, nhead=8, num_encoder_layers=6, num_decoder_layers=6, dim_feedforward=2048, dropout=0.1):\n",
        "        super(Transformer, self).__init__()\n",
        "        self.d_model = d_model\n",
        "        # self.src_tok_emb = nn.Embedding(src_vocab_size, emb_size)\n",
        "        # self.trg_tok_emb = nn.Embedding(trg_vocab_size, emb_size)\n",
        "        self.pos_enc = PositionalEncoding(d_model, dropout=dropout)\n",
        "        self.transformer = nn.Transformer(d_model=d_model, nhead=nhead, num_encoder_layers=num_encoder_layers, num_decoder_layers=num_decoder_layers, dim_feedforward=dim_feedforward, dropout=dropout, batch_first=True)\n",
        "        self.generator = nn.Linear(d_model, trg_vocab_size)\n",
        "\n",
        "        self.src_tok_emb = TokenEmbedding(src_vocab_size, d_model)\n",
        "        self.trg_tok_emb = TokenEmbedding(trg_vocab_size, d_model)\n",
        "        for p in self.parameters():\n",
        "            if p.dim() > 1:\n",
        "                nn.init.xavier_uniform_(p)\n",
        "\n",
        "    def forward(self, src, trg, src_mask=None, trg_mask=None, src_key_padding_mask=None, trg_key_padding_mask=None):\n",
        "        src_emb = self.pos_enc(self.src_tok_emb(src))\n",
        "        trg_emb = self.pos_enc(self.trg_tok_emb(trg))\n",
        "\n",
        "        out = self.transformer(src_emb, trg_emb, src_mask=src_mask, tgt_mask=trg_mask, memory_mask=None, src_key_padding_mask=src_key_padding_mask, tgt_key_padding_mask=trg_key_padding_mask, memory_key_padding_mask=src_key_padding_mask)\n",
        "        return self.generator(out)\n",
        "\n",
        "    def encode(self, src, src_mask=None):\n",
        "        return self.transformer.encoder(self.pos_enc(self.src_tok_emb(src)), src_mask)\n",
        "\n",
        "    def decode(self, trg, memory, trg_mask=None, memory_mask=None):\n",
        "        return self.transformer.decoder(self.pos_enc(self.trg_tok_emb(trg)), memory, trg_mask, memory_mask)\n",
        "\n",
        "\n",
        "src_vocab_size = len(de_vocab)\n",
        "trg_vocab_size = len(en_vocab)\n",
        "\n",
        "emb_size = 512 # d_model\n",
        "nhead = 8\n",
        "dim_feedforward = 512\n",
        "num_encoder_layers = 3\n",
        "num_decoder_layers = 3\n",
        "\n",
        "model = Transformer(src_vocab_size, trg_vocab_size, d_model=512, nhead=8, num_encoder_layers=3, num_decoder_layers=3, dim_feedforward=512, dropout=0.1).to(device)\n"
      ],
      "metadata": {
        "id": "if8SlPVzEDnl"
      },
      "execution_count": 10,
      "outputs": []
    },
    {
      "cell_type": "code",
      "source": [
        "# @title mask translate\n",
        "\n",
        "# subsequent word mask that will prevent the model from looking into the future words when making predictions.\n",
        "# also need masks to hide source and target padding token\n",
        "def generate_square_subsequent_mask(sz):\n",
        "    mask = torch.tril(torch.ones((sz, sz), device=device))#.bool()\n",
        "    mask = mask.float().masked_fill(mask == 0, float('-inf')).masked_fill(mask == 1, float(0.0))\n",
        "    return mask\n",
        "\n",
        "\n",
        "def create_mask(src, trg):\n",
        "    src_seq_len = src.shape[1] # batch_first=F -> [0]\n",
        "    trg_seq_len = trg.shape[1] # batch_first=F -> [0]\n",
        "    trg_mask = generate_square_subsequent_mask(trg_seq_len)\n",
        "    src_mask = torch.zeros((src_seq_len, src_seq_len),device=device).type(torch.bool)\n",
        "    src_padding_mask = (src == PAD_IDX) # batch_first=F -> .transpose(0, 1)\n",
        "    trg_padding_mask = (trg == PAD_IDX) # batch_first=F -> .transpose(0, 1)\n",
        "    return src_mask, trg_mask, src_padding_mask, trg_padding_mask\n",
        "\n",
        "\n",
        "def translate(model, src_sentence):\n",
        "    model.eval()\n",
        "    src = de_transform(src_sentence).view(1,-1).to(device)\n",
        "    num_tokens = src.shape[1] # batch_first=F -> [0]\n",
        "    src_mask = torch.zeros((num_tokens, num_tokens), dtype=bool, device=device)\n",
        "    trg_indexes = [BOS_IDX]\n",
        "    max_len = src.shape[1]+5\n",
        "    for i in range(max_len):\n",
        "        trg_tensor = torch.tensor(trg_indexes, dtype=torch.long, device=device).unsqueeze(0)\n",
        "        trg_mask = generate_square_subsequent_mask(trg_tensor.size(1))\n",
        "        with torch.no_grad():\n",
        "            output = model(src, trg_tensor, src_mask, trg_mask)\n",
        "        pred_token = output.argmax(2)[:,-1].item() # batch_first=F -> ?\n",
        "        trg_indexes.append(pred_token)\n",
        "        if pred_token == EOS_IDX: break\n",
        "    trg_tokens = torch.tensor(trg_indexes[1:-1]).flatten()\n",
        "    return \" \".join(en_vocab.lookup_tokens(list(trg_tokens.cpu().numpy())))\n",
        "\n",
        "# UNK_IDX, PAD_IDX, BOS_IDX, EOS_IDX = 0, 1, 2, 3 # unknown, pad, bigining, end of sentence\n",
        "print(translate(model, \"Eine Gruppe von Menschen steht vor einem Iglu .\"))\n"
      ],
      "metadata": {
        "id": "wCMEIOFDnZa4",
        "outputId": "a6180c82-f6ed-432e-b708-08970a4bb530",
        "colab": {
          "base_uri": "https://localhost:8080/"
        },
        "cellView": "form"
      },
      "execution_count": 11,
      "outputs": [
        {
          "output_type": "stream",
          "name": "stdout",
          "text": [
            "coca technique Toy technique Toy technique stickers watch Toy stickers technique stickers technique stickers technique\n"
          ]
        }
      ]
    },
    {
      "cell_type": "code",
      "source": [
        "# @title train test\n",
        "\n",
        "def train(dataloader, model, loss_fn, optimizer):\n",
        "    model.train()\n",
        "    losses = 0\n",
        "    for src, trg in dataloader:\n",
        "        src = src.to(device)\n",
        "        trg = trg.to(device)\n",
        "        trg_input = trg[:, :-1] # batch_first=F -> [:-1, :]\n",
        "        src_mask, trg_mask, src_padding_mask, trg_padding_mask = create_mask(src, trg_input)\n",
        "        logits = model(src, trg_input, src_mask, trg_mask, src_padding_mask, trg_padding_mask)\n",
        "        optimizer.zero_grad()\n",
        "        loss = loss_fn(logits.reshape(-1, logits.shape[-1]), trg[:, 1:].reshape(-1)) # batch_first=F -> trg[1:, :]\n",
        "        loss.backward()\n",
        "        optimizer.step()\n",
        "        losses += loss.item()\n",
        "    return losses / len(list(dataloader))\n",
        "\n",
        "def test(dataloader, model, loss_fn):\n",
        "    model.eval()\n",
        "    losses = 0\n",
        "    for src, trg in dataloader:\n",
        "        src = src.to(device)\n",
        "        trg = trg.to(device)\n",
        "        trg_input = trg[:, :-1] # batch_first=F -> [:-1, :]\n",
        "        src_mask, trg_mask, src_padding_mask, trg_padding_mask = create_mask(src, trg_input)\n",
        "        logits = model(src, trg_input, src_mask, trg_mask, src_padding_mask, trg_padding_mask)\n",
        "        loss = loss_fn(logits.reshape(-1, logits.shape[-1]), trg[:, 1:].reshape(-1)) # batch_first=F -> trg[1:, :]\n",
        "        losses += loss.item()\n",
        "    return losses / len(list(dataloader))\n"
      ],
      "metadata": {
        "id": "RNSK9Tm8B2W5",
        "cellView": "form"
      },
      "execution_count": 12,
      "outputs": []
    },
    {
      "cell_type": "code",
      "execution_count": 13,
      "metadata": {
        "id": "K654rT4_3Y2i",
        "colab": {
          "base_uri": "https://localhost:8080/"
        },
        "outputId": "36af819c-dd45-4b98-bb86-24d9a8b5de72",
        "cellView": "form"
      },
      "outputs": [
        {
          "output_type": "stream",
          "name": "stderr",
          "text": [
            "/usr/local/lib/python3.10/dist-packages/torch/nn/functional.py:5076: UserWarning: Support for mismatched key_padding_mask and attn_mask is deprecated. Use same type for both instead.\n",
            "  warnings.warn(\n",
            "/usr/local/lib/python3.10/dist-packages/torch/utils/data/datapipes/iter/combining.py:333: UserWarning: Some child DataPipes are not exhausted when __iter__ is called. We are resetting the buffer and each child DataPipe will read from the start again.\n",
            "  warnings.warn(\"Some child DataPipes are not exhausted when __iter__ is called. We are resetting \"\n"
          ]
        },
        {
          "output_type": "stream",
          "name": "stdout",
          "text": [
            "Epoch: 1, Train loss: 5.338, Val loss: 4.101, Epoch time = 45.662s\n",
            "A group of people are in a red shirt is playing a large\n",
            "Epoch: 2, Train loss: 3.766, Val loss: 3.332, Epoch time = 45.664s\n",
            "A group of people are standing in front of a crowd .\n",
            "Epoch: 3, Train loss: 3.165, Val loss: 2.891, Epoch time = 45.248s\n",
            "A group of people standing in front of a crowd .\n",
            "Epoch: 4, Train loss: 2.768, Val loss: 2.630, Epoch time = 45.014s\n",
            "A group of people standing in front of a store .\n",
            "Epoch: 5, Train loss: 2.477, Val loss: 2.453, Epoch time = 46.618s\n",
            "A group of people standing in front of a store .\n",
            "Epoch: 6, Train loss: 2.246, Val loss: 2.318, Epoch time = 44.933s\n",
            "A group of people standing in front of a store .\n",
            "Epoch: 7, Train loss: 2.052, Val loss: 2.203, Epoch time = 45.686s\n",
            "A group of people standing in front of a wooden computer .\n",
            "Epoch: 8, Train loss: 1.892, Val loss: 2.115, Epoch time = 45.169s\n",
            "A group of people standing in front of an open computer .\n",
            "Epoch: 9, Train loss: 1.753, Val loss: 2.052, Epoch time = 44.923s\n",
            "A group of people standing in front of an open van .\n",
            "Epoch: 10, Train loss: 1.626, Val loss: 2.008, Epoch time = 46.051s\n",
            "A group of people standing in front of an empty van .\n",
            "Epoch: 11, Train loss: 1.518, Val loss: 1.981, Epoch time = 45.940s\n",
            "A group of people standing in front of an empty van .\n",
            "Epoch: 12, Train loss: 1.418, Val loss: 1.941, Epoch time = 45.658s\n",
            "A group of people standing in front of an empty van .\n",
            "Epoch: 13, Train loss: 1.328, Val loss: 1.944, Epoch time = 45.267s\n",
            "A group of people standing in front of an apron .\n",
            "Epoch: 14, Train loss: 1.248, Val loss: 1.970, Epoch time = 46.563s\n",
            "A group of people standing in front of an apron .\n",
            "Epoch: 15, Train loss: 1.175, Val loss: 1.938, Epoch time = 46.157s\n",
            "A group of people standing in front of an apron .\n",
            "Epoch: 16, Train loss: 1.098, Val loss: 1.932, Epoch time = 44.872s\n",
            "A group of people standing in front of an igloo\n",
            "Epoch: 17, Train loss: 1.030, Val loss: 1.911, Epoch time = 46.487s\n",
            "A group of people standing in front of an igloo\n",
            "Epoch: 18, Train loss: 0.970, Val loss: 1.928, Epoch time = 46.011s\n",
            "A group of people stand in front of an igloo\n"
          ]
        }
      ],
      "source": [
        "# @title run\n",
        "import time\n",
        "\n",
        "loss_fn = torch.nn.CrossEntropyLoss(ignore_index=PAD_IDX)\n",
        "optimizer = torch.optim.Adam(model.parameters(), lr=0.0001, betas=(0.9, 0.98), eps=1e-9) # lr=0.0001\n",
        "\n",
        "for epoch in range(18):\n",
        "    start_time = time.time()\n",
        "    train_loss = train(train_loader, model, loss_fn, optimizer)\n",
        "    end_time = time.time()\n",
        "    val_loss = test(val_loader, model, loss_fn)\n",
        "    print((f\"Epoch: {epoch+1}, Train loss: {train_loss:.3f}, Val loss: {val_loss:.3f}, \"f\"Epoch time = {(end_time - start_time):.3f}s\"))\n",
        "    print(translate(model, \"Eine Gruppe von Menschen steht vor einem Iglu .\"))\n"
      ]
    },
    {
      "cell_type": "code",
      "execution_count": 14,
      "metadata": {
        "id": "6q94CS1Sff-I",
        "colab": {
          "base_uri": "https://localhost:8080/"
        },
        "outputId": "d96d860f-2394-4e02-f8a0-b74cb310e3fc",
        "cellView": "form"
      },
      "outputs": [
        {
          "output_type": "stream",
          "name": "stdout",
          "text": [
            "A group of people stand in front of an igloo\n",
            "A chef in a white uniform prepares food in a restaurant kitchen .\n",
            "Two young girls play soccer on a field .\n",
            "A woman wearing a hat and sunglasses is standing on the beach .\n",
            "Two friends laugh and enjoy an ice on a beautiful field .\n"
          ]
        }
      ],
      "source": [
        "# @title inference\n",
        "print(translate(model, \"Eine Gruppe von Menschen steht vor einem Iglu .\")) # A group of people stand in front of an igloo .\n",
        "print(translate(model, \"Ein Koch in weißer Uniform bereitet Essen in einer Restaurantküche zu .\")) # A chef in a white uniform prepares food in a restaurant kitchen .\n",
        "print(translate(model, \"Zwei junge Mädchen spielen Fußball auf einem Feld. .\")) # Two young girls play soccer on a field. .\n",
        "print(translate(model, \"Eine Frau mit Hut und Sonnenbrille steht am Strand .\")) # A woman wearing a hat and sunglasses stands on the beach .\n",
        "print(translate(model, \"Zwei Freunde lachen und genießen ein Eis auf einer wunderschönen Wiese .\")) # Two friends laugh and enjoy ice cream on a beautiful meadow .\n"
      ]
    }
  ],
  "metadata": {
    "colab": {
      "provenance": [],
      "gpuType": "T4",
      "include_colab_link": true
    },
    "kernelspec": {
      "display_name": "Python 3",
      "name": "python3"
    },
    "language_info": {
      "codemirror_mode": {
        "name": "ipython",
        "version": 3
      },
      "file_extension": ".py",
      "mimetype": "text/x-python",
      "name": "python",
      "nbconvert_exporter": "python",
      "pygments_lexer": "ipython3",
      "version": "3.10.12"
    },
    "accelerator": "GPU"
  },
  "nbformat": 4,
  "nbformat_minor": 0
}